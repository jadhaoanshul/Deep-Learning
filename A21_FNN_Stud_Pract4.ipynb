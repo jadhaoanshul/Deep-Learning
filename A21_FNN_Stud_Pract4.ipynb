{
  "cells": [
    {
      "cell_type": "markdown",
      "metadata": {
        "id": "view-in-github",
        "colab_type": "text"
      },
      "source": [
        "<a href=\"https://colab.research.google.com/github/jadhaoanshul/Deep-Learning/blob/main/A21_FNN_Stud_Pract4.ipynb\" target=\"_parent\"><img src=\"https://colab.research.google.com/assets/colab-badge.svg\" alt=\"Open In Colab\"/></a>"
      ]
    },
    {
      "cell_type": "markdown",
      "source": [
        "## DL Lab4\n",
        "### Name : Anshul Jadhao <br> Batch and Roll No. : A2 & 21"
      ],
      "metadata": {
        "id": "RHfYETzuA3D8"
      },
      "id": "RHfYETzuA3D8"
    },
    {
      "cell_type": "code",
      "execution_count": null,
      "id": "c8d33d42-506c-46cd-87d1-296dd5bba33b",
      "metadata": {
        "id": "c8d33d42-506c-46cd-87d1-296dd5bba33b"
      },
      "outputs": [],
      "source": [
        "import numpy as np"
      ]
    },
    {
      "cell_type": "code",
      "source": [
        "from google.colab import drive\n",
        "drive.mount('/content/drive')"
      ],
      "metadata": {
        "colab": {
          "base_uri": "https://localhost:8080/"
        },
        "id": "OiirrfDSlLBk",
        "outputId": "c5e971ae-108e-4b9f-df66-94bfa8cce997"
      },
      "id": "OiirrfDSlLBk",
      "execution_count": null,
      "outputs": [
        {
          "output_type": "stream",
          "name": "stdout",
          "text": [
            "Mounted at /content/drive\n"
          ]
        }
      ]
    },
    {
      "cell_type": "code",
      "execution_count": null,
      "id": "2df8e227-8f7f-4d7f-9c2e-e87885618ce5",
      "metadata": {
        "id": "2df8e227-8f7f-4d7f-9c2e-e87885618ce5"
      },
      "outputs": [],
      "source": [
        "import matplotlib.pyplot as plt\n",
        "from sklearn.datasets import make_blobs\n",
        "from sklearn.preprocessing import OneHotEncoder\n",
        "from sklearn.model_selection import train_test_split"
      ]
    },
    {
      "cell_type": "markdown",
      "source": [
        "## Practical 4\n",
        "Create a neural network from scratch for a multiclass\n",
        "classification task with the following architecture:\n",
        "\n",
        "\n",
        "Input\n",
        "layer: 4 neurons\n",
        "First\n",
        "hidden layer: 3 neurons\n",
        "Second\n",
        "hidden layer: 4 neurons\n",
        "Output\n",
        "layer: 3 neurons\n",
        "\n",
        "\n",
        "\n",
        "Generate a random dataset for a 3-class classification\n",
        "problem. Apply the designed neural network on the generated dataset using the\n",
        "ReLU activation function in the hidden layers and the softmax activation\n",
        "function in the output layer for multiclass classification. Use binary\n",
        "cross-entropy as the loss function for training. Additionally, implement the\n",
        "all optimizer as part of the training process. Train\n",
        "the neural network using both optimizers and evaluate their performance on the\n",
        "dataset using performance metrics accuracy."
      ],
      "metadata": {
        "id": "q6UyGL6-sY0T"
      },
      "id": "q6UyGL6-sY0T"
    },
    {
      "cell_type": "code",
      "source": [
        "import torch\n",
        "import torch.nn as nn\n",
        "import torch.optim as optim\n",
        "import numpy as np\n",
        "from sklearn.datasets import make_classification\n",
        "from sklearn.model_selection import train_test_split\n",
        "from sklearn.preprocessing import StandardScaler, OneHotEncoder\n",
        "from sklearn.metrics import accuracy_score"
      ],
      "metadata": {
        "id": "tHAMYkdlA90t"
      },
      "id": "tHAMYkdlA90t",
      "execution_count": null,
      "outputs": []
    },
    {
      "cell_type": "code",
      "source": [
        "# Step 1: Generate a Random Dataset\n",
        "X, y = make_classification(n_samples=1000, n_features=4, n_classes=3,\n",
        "                           n_informative=3, n_redundant=1, random_state=42)\n",
        "\n",
        "print(\"Generated Dataset:\")\n",
        "print(\"Features:\", X[:100])\n",
        "print(\"Labels:\", y[:100])"
      ],
      "metadata": {
        "colab": {
          "base_uri": "https://localhost:8080/"
        },
        "id": "2_78Vc9tpU9p",
        "outputId": "78fa0ee4-bc08-453e-ba76-29e0c7bd3f41"
      },
      "id": "2_78Vc9tpU9p",
      "execution_count": null,
      "outputs": [
        {
          "output_type": "stream",
          "name": "stdout",
          "text": [
            "Generated Dataset:\n",
            "Features: [[-7.63576538e-01 -1.37636780e+00 -1.32921216e+00 -8.11225933e-01]\n",
            " [ 7.98775852e-01  1.47910302e+00 -1.23529644e-01 -1.82966415e+00]\n",
            " [ 2.51710984e-01 -1.18311957e+00  1.43640980e+00 -1.22878966e+00]\n",
            " [-6.28048368e-01 -1.59609361e+00 -4.00481649e-01 -3.44888165e-01]\n",
            " [-1.79159244e-01 -1.20240680e+00  8.72088789e-01  1.85406163e-01]\n",
            " [ 7.25190407e-01  9.57999500e-01  2.77721980e-01 -1.73024099e+00]\n",
            " [ 8.54206543e-02 -1.27342358e+00  1.43129091e+00 -4.63386321e-01]\n",
            " [-6.65310449e-01 -1.86756351e+00  2.98640433e-02  1.03861546e-01]\n",
            " [ 6.31590041e-01  1.56118235e+00 -5.40054565e-01 -1.45942625e+00]\n",
            " [-1.79709358e-01  7.05105160e-01 -1.58896826e-01  2.17324320e+00]\n",
            " [-3.67291461e-01 -2.13909705e-01 -1.18315245e+00 -4.73256644e-01]\n",
            " [-4.65540563e-01 -5.02640909e-01  8.73697402e-02  1.82215198e+00]\n",
            " [ 9.91744255e-01  1.60315473e+00  1.82397318e+00  8.57775705e-01]\n",
            " [-7.02461689e-01 -5.70732438e-01 -1.11007435e+00  8.67396268e-01]\n",
            " [ 5.40165050e-01  8.31787270e-01  1.26270350e+00  8.73844404e-01]\n",
            " [-3.53378718e-02 -3.95917581e-01  5.24282985e-01  3.56777053e-01]\n",
            " [ 1.63877134e-01 -4.35091937e-01  1.23916463e+00  4.32447817e-01]\n",
            " [-4.42740144e-01 -5.06782681e-01  2.37259844e-01  1.95549875e+00]\n",
            " [-9.98523945e-01 -2.53930831e+00 -1.00036777e-01  4.25804790e-01]\n",
            " [ 9.81274245e-01  1.79167983e+00 -3.53805679e-02 -2.08706406e+00]\n",
            " [-8.12115991e-01 -2.77017120e+00  1.03873251e+00  9.59191033e-01]\n",
            " [ 1.08682940e+00  2.55861294e+00  1.50122789e+00  1.65710265e+00]\n",
            " [-1.34715158e-01 -4.19041984e-01  1.26310520e+00  2.22801447e+00]\n",
            " [-3.06056691e-01 -1.24645999e+00  9.27720376e-01  9.28279769e-01]\n",
            " [ 1.47257020e-01 -1.26967853e+00  1.56502528e+00 -5.68287584e-01]\n",
            " [-8.65799068e-02 -5.76346992e-01  1.31172503e+00  1.72085076e+00]\n",
            " [-8.62224434e-01 -1.46197917e-01 -1.58002372e+00  1.79103427e+00]\n",
            " [ 4.71437686e-01  1.06854546e+00 -5.73731899e-01 -1.59610053e+00]\n",
            " [-4.52499547e-01  5.73146261e-01 -1.13035821e+00  1.70734848e+00]\n",
            " [ 4.53324611e-01 -1.03217141e+00  1.54176061e+00 -1.89222477e+00]\n",
            " [ 1.10778266e+00  7.82670844e-01  2.78549661e+00  2.79563558e-01]\n",
            " [-4.81437646e-01  6.75457258e-02 -2.83793078e+00 -2.26024891e+00]\n",
            " [-4.45608163e-01 -1.26282652e+00 -3.96290749e-01 -7.12989068e-01]\n",
            " [-2.90274304e-01  7.19022061e-01 -9.11035594e-01  1.46806611e+00]\n",
            " [ 1.20921859e-01 -1.24739011e+00  1.51898532e+00 -4.55365687e-01]\n",
            " [-7.74730009e-01 -1.81804566e+00 -5.92458018e-01 -2.99354038e-01]\n",
            " [-4.51808867e-01 -1.85798388e+00  1.41128608e+00  1.41011841e+00]\n",
            " [-6.76256343e-01 -2.59313155e-01 -1.34020656e+00  9.27910584e-01]\n",
            " [-3.48065299e-01 -1.55406341e+00  1.33747941e+00  1.29369388e+00]\n",
            " [ 9.94682410e-01  2.65093575e+00  1.00609132e+00  1.47277446e+00]\n",
            " [-6.72848530e-01  2.06871930e-01 -2.27215930e+00  1.54706526e-01]\n",
            " [-1.29344220e+00 -2.90932003e+00 -7.09647415e-01  2.64412068e-01]\n",
            " [-1.03040743e-01 -1.64632440e-01  9.23599916e-01  1.94236444e+00]\n",
            " [-7.32973782e-01  8.22458706e-01 -2.47547787e+00  1.37713128e+00]\n",
            " [-3.31132855e-01 -6.69031039e-02 -1.58685060e-02  1.74246175e+00]\n",
            " [-3.13855731e-01 -4.77298373e-01 -1.39014008e+00 -1.69135896e+00]\n",
            " [ 5.07439579e-02  2.56661445e-01  4.98600630e-01  1.13574149e+00]\n",
            " [ 3.98898942e-01  1.25044859e+00  9.00966392e-01  1.87618872e+00]\n",
            " [-1.05733613e+00 -1.57710967e+00 -2.23810538e+00 -1.18168029e+00]\n",
            " [-6.90231521e-02 -9.15692041e-01  5.86748429e-01 -3.87988315e-01]\n",
            " [-1.71438359e-01 -5.85285327e-01  4.16048564e-01  5.59900707e-01]\n",
            " [-1.10386738e-01  4.01415548e-01 -1.13621746e+00 -6.21145838e-01]\n",
            " [-1.20910295e+00 -2.35740484e+00 -1.47989478e+00 -5.06685594e-01]\n",
            " [-3.98758818e-01 -1.77322258e-01 -4.18535784e-01  1.17481863e+00]\n",
            " [ 1.05093640e-01  2.17523614e+00 -1.10261342e+00  1.79114274e+00]\n",
            " [-7.86172385e-01 -6.72531882e-01 -1.42096514e+00  5.77007090e-01]\n",
            " [ 8.77588354e-02 -1.26713227e+00  1.49101261e+00 -3.55325597e-01]\n",
            " [-6.27513469e-01 -2.92383895e+00  1.90690862e+00  1.16639509e+00]\n",
            " [-9.23348506e-01 -4.65996041e+00  2.48383734e+00  4.05282522e-01]\n",
            " [-6.30568226e-01 -1.08529317e+00 -1.38488094e+00 -1.08914631e+00]\n",
            " [-1.70854461e-03  5.81857976e-02  4.93968690e-01  1.02744739e+00]\n",
            " [-6.56645128e-01 -2.57362455e+00  1.25303789e+00  8.52271852e-01]\n",
            " [-2.17936308e-02 -5.88326673e-01  1.65505235e+00  1.94890239e+00]\n",
            " [ 7.71398383e-01  1.39120921e+00 -2.03076777e-01 -1.99489034e+00]\n",
            " [-3.02880386e-01 -1.30026802e+00  2.40002583e-01 -4.51676897e-01]\n",
            " [ 9.08575926e-01  6.20195242e-01  2.51228101e+00  6.00023166e-01]\n",
            " [-1.52287024e-02  2.02062195e-01  9.47757109e-02  6.69502618e-01]\n",
            " [ 4.31394823e-02 -1.35017375e+00  1.61285062e+00 -4.46064819e-02]\n",
            " [ 1.01605893e+00  2.29346174e+00  1.30042733e+00  1.16194829e+00]\n",
            " [ 1.12135728e-01 -1.36286318e+00  1.72478120e+00 -2.63734053e-01]\n",
            " [ 1.54532690e-01  1.22099906e-01 -6.65593945e-01 -1.85504173e+00]\n",
            " [ 2.37517121e-01 -1.42204839e+00  1.93853544e+00 -7.16234552e-01]\n",
            " [-9.13608445e-01 -1.44488382e+00 -1.86799745e+00 -1.06742269e+00]\n",
            " [ 1.54607521e-01 -1.18864942e+00  1.52964623e+00 -5.10978750e-01]\n",
            " [-4.24804169e-01 -1.28176138e+00 -2.92434992e-01 -6.81954792e-01]\n",
            " [-6.17672133e-01 -9.48114240e-01 -1.34877009e+00 -8.19848624e-01]\n",
            " [-2.60178955e-01 -3.12301294e-01  2.72861412e-01  1.36288028e+00]\n",
            " [-5.69953976e-01 -2.33674344e+00  9.45137269e-01  2.71880106e-01]\n",
            " [ 3.97410146e-01 -3.84002368e-02  5.23701488e-01 -1.41231987e+00]\n",
            " [-1.27587211e+00 -1.43563201e+00 -2.20371580e+00  4.25898913e-01]\n",
            " [-2.83565696e-01 -1.64199251e+00  1.58401672e+00  1.19329414e+00]\n",
            " [-7.42659423e-02 -6.19991523e-01  9.79964534e-01  9.57246067e-01]\n",
            " [ 1.97516664e-01  4.08932310e-01 -5.22331131e-01 -1.26078119e+00]\n",
            " [ 5.03449415e-01  1.19288667e+00 -4.84935682e-01 -1.36690852e+00]\n",
            " [-9.31465029e-01 -1.16588145e+00 -1.13925443e+00  9.27811613e-01]\n",
            " [ 1.39122946e+00  2.19179136e+00  2.69003753e+00  1.32686448e+00]\n",
            " [-7.00753539e-01 -1.70324965e+00 -6.34578394e-01 -5.69616584e-01]\n",
            " [-1.21326163e+00 -1.39181233e+00 -1.41272316e+00  1.59491271e+00]\n",
            " [-6.00185450e-01 -2.34545494e+00  1.05879625e+00  6.35363403e-01]\n",
            " [ 6.80504171e-02  6.94056876e-01 -2.05221417e+00 -2.72462039e+00]\n",
            " [ 1.59613050e-01 -9.01215104e-01  1.01934480e+00 -8.87292869e-01]\n",
            " [ 3.98224856e-02 -7.40068225e-01  3.19413623e-01 -1.14610947e+00]\n",
            " [ 3.56334396e-01  5.80345953e-01  1.04034525e+00  1.01824611e+00]\n",
            " [-6.75424155e-01  1.06645470e+00 -3.00376448e+00  5.77517599e-01]\n",
            " [-3.49564852e-01 -6.69270121e-01 -1.09902562e-01  4.57542064e-01]\n",
            " [ 8.73538018e-01  8.22027393e-01  2.32696269e+00  8.72929403e-01]\n",
            " [-1.38477543e-02  9.53986821e-01 -1.42957398e+00 -5.92491421e-01]\n",
            " [-9.33178010e-01 -9.32271665e-01 -2.81135109e+00 -1.63506433e+00]\n",
            " [-4.67118896e-01 -1.54116436e-03 -2.19782464e-01  2.28646177e+00]\n",
            " [ 2.41781160e-01  1.02675996e+00  3.30222373e-01  1.28836248e+00]]\n",
            "Labels: [2 1 0 2 0 1 0 2 1 2 1 2 0 2 0 1 0 2 2 1 2 0 1 1 0 1 2 1 2 0 0 2 2 0 0 2 1\n",
            " 2 1 0 1 2 1 2 2 2 1 1 2 0 1 1 2 2 0 2 0 1 1 2 1 1 1 1 2 0 1 0 0 0 2 0 2 0\n",
            " 2 2 2 1 2 2 0 1 1 1 2 0 2 2 2 2 0 0 0 1 2 0 1 2 2 1]\n"
          ]
        }
      ]
    },
    {
      "cell_type": "code",
      "source": [
        "# One-Hot Encoding of labels\n",
        "ohe = OneHotEncoder(sparse_output=False)\n",
        "y_one_hot = ohe.fit_transform(y.reshape(-1, 1))\n",
        "print(\"One-Hot Encoded Labels:\")\n",
        "print(y_one_hot[:5])"
      ],
      "metadata": {
        "colab": {
          "base_uri": "https://localhost:8080/"
        },
        "id": "Ewt3CtJRpaLZ",
        "outputId": "a87c1fcd-b148-4abb-9fb4-db543eb51aa4"
      },
      "id": "Ewt3CtJRpaLZ",
      "execution_count": null,
      "outputs": [
        {
          "output_type": "stream",
          "name": "stdout",
          "text": [
            "One-Hot Encoded Labels:\n",
            "[[0. 0. 1.]\n",
            " [0. 1. 0.]\n",
            " [1. 0. 0.]\n",
            " [0. 0. 1.]\n",
            " [1. 0. 0.]]\n"
          ]
        }
      ]
    },
    {
      "cell_type": "code",
      "source": [
        "# Split into Training and Testing Sets\n",
        "X_train, X_test, y_train, y_test = train_test_split(X, y_one_hot, test_size=0.2, random_state=42)"
      ],
      "metadata": {
        "id": "5bhHwPPhp-ZC"
      },
      "id": "5bhHwPPhp-ZC",
      "execution_count": null,
      "outputs": []
    },
    {
      "cell_type": "code",
      "source": [
        "# Standardize Features\n",
        "scaler = StandardScaler()\n",
        "X_train = scaler.fit_transform(X_train)\n",
        "X_test = scaler.transform(X_test)\n",
        "print(\"Standardized Training Features:\")\n",
        "print(X_train[:5])"
      ],
      "metadata": {
        "colab": {
          "base_uri": "https://localhost:8080/"
        },
        "id": "FAtv1V6hqByd",
        "outputId": "a1c26cb0-5b0a-4b55-e702-bf6a6dea6b44"
      },
      "id": "FAtv1V6hqByd",
      "execution_count": null,
      "outputs": [
        {
          "output_type": "stream",
          "name": "stdout",
          "text": [
            "Standardized Training Features:\n",
            "[[ 0.82824262 -0.49192863  1.07799796 -1.55605876]\n",
            " [-0.41415237 -0.79355707  1.10671746  1.66891098]\n",
            " [-0.0637306   0.45091386 -0.23397134  0.76381877]\n",
            " [-1.14583527 -1.04779579 -0.82053612 -0.46507469]\n",
            " [-1.65901934 -0.26184995 -1.28301812  2.00614525]]\n"
          ]
        }
      ]
    },
    {
      "cell_type": "code",
      "source": [
        "# Convert to PyTorch Tensors\n",
        "X_train_tensor = torch.tensor(X_train, dtype=torch.float32)\n",
        "y_train_tensor = torch.tensor(y_train, dtype=torch.float32)\n",
        "X_test_tensor = torch.tensor(X_test, dtype=torch.float32)\n",
        "y_test_tensor = torch.tensor(y_test, dtype=torch.float32)"
      ],
      "metadata": {
        "id": "8kM8VIl9qEIF"
      },
      "id": "8kM8VIl9qEIF",
      "execution_count": null,
      "outputs": []
    },
    {
      "cell_type": "code",
      "source": [
        "# Step 2: Define the Neural Network Architecture\n",
        "class NeuralNetwork(nn.Module):\n",
        "    def __init__(self):\n",
        "        super(NeuralNetwork, self).__init__()\n",
        "        self.fc1 = nn.Linear(4, 3)\n",
        "        self.fc2 = nn.Linear(3, 4)\n",
        "        self.fc3 = nn.Linear(4, 3)\n",
        "        self.relu = nn.ReLU()\n",
        "        self.softmax = nn.Softmax(dim=1)\n",
        "\n",
        "    def forward(self, x):\n",
        "        x = self.relu(self.fc1(x))\n",
        "        x = self.relu(self.fc2(x))\n",
        "        x = self.softmax(self.fc3(x))\n",
        "        return x\n",
        "\n",
        "# Initialize the Model\n",
        "model = NeuralNetwork()\n",
        "print(\"Neural Network Model:\")\n",
        "print(model)\n"
      ],
      "metadata": {
        "colab": {
          "base_uri": "https://localhost:8080/"
        },
        "id": "5naTIOPjqIVM",
        "outputId": "8f0c6133-62bb-478a-a7b8-85b9295a08ac"
      },
      "id": "5naTIOPjqIVM",
      "execution_count": null,
      "outputs": [
        {
          "output_type": "stream",
          "name": "stdout",
          "text": [
            "Neural Network Model:\n",
            "NeuralNetwork(\n",
            "  (fc1): Linear(in_features=4, out_features=3, bias=True)\n",
            "  (fc2): Linear(in_features=3, out_features=4, bias=True)\n",
            "  (fc3): Linear(in_features=4, out_features=3, bias=True)\n",
            "  (relu): ReLU()\n",
            "  (softmax): Softmax(dim=1)\n",
            ")\n"
          ]
        }
      ]
    },
    {
      "cell_type": "code",
      "source": [
        "import torch\n",
        "import torch.nn as nn\n",
        "import torch.optim as optim\n",
        "class MyModel(nn.Module):\n",
        "    def __init__(self):\n",
        "        super(MyModel, self).__init__()\n",
        "        self.fc1 = nn.Linear(4, 8)\n",
        "        self.fc2 = nn.Linear(8, 6)\n",
        "        self.fc3 = nn.Linear(6, 3)\n",
        "        self.softmax = nn.Softmax(dim=1)\n",
        "\n",
        "    def forward(self, x):\n",
        "        x = torch.relu(self.fc1(x))\n",
        "        x = torch.relu(self.fc2(x))\n",
        "        x = self.fc3(x)\n",
        "        x = self.softmax(x)\n",
        "        return x\n",
        "\n",
        "model = MyModel()"
      ],
      "metadata": {
        "id": "v1toKdI3q6V0"
      },
      "id": "v1toKdI3q6V0",
      "execution_count": null,
      "outputs": []
    },
    {
      "cell_type": "code",
      "source": [
        "import numpy as np\n",
        "import math\n",
        "\n",
        "def do_adam(X, Y, init_w, init_b, eta=0.1, max_epochs=1000, beta1=0.9, beta2=0.999, eps=1e-8):\n",
        "    w = init_w\n",
        "    b = init_b\n",
        "\n",
        "    # Initialize moment estimates\n",
        "    m_w, m_b = 0, 0  # First moment (mean)\n",
        "    v_w, v_b = 0, 0  # Second moment (variance)\n",
        "\n",
        "    # Initialize history for tracking progress\n",
        "    w_history, b_history, error_history = [], [], []\n",
        "\n",
        "    for epoch in range(max_epochs):\n",
        "        dw, db = 0, 0  # Initialize gradients\n",
        "\n",
        "        for x, y in zip(X, Y):\n",
        "            dw_i = grad_w(w, b, x, y)  # Calculate gradient w.r.t. w\n",
        "            db_i = grad_b(w, b, x, y)  # Calculate gradient w.r.t. b\n",
        "\n",
        "            dw += dw_i\n",
        "            db += db_i\n",
        "\n",
        "        # Apply bias correction for first and second moments\n",
        "        m_w = beta1 * m_w + (1 - beta1) * dw\n",
        "        m_b = beta1 * m_b + (1 - beta1) * db\n",
        "\n",
        "        v_w = beta2 * v_w + (1 - beta2) * (dw ** 2)\n",
        "        v_b = beta2 * v_b + (1 - beta2) * (db ** 2)\n",
        "\n",
        "        m_w_hat = m_w / (1 - beta1 ** (epoch + 1))\n",
        "        m_b_hat = m_b / (1 - beta1 ** (epoch + 1))\n",
        "\n",
        "        v_w_hat = v_w / (1 - beta2 ** (epoch + 1))\n",
        "        v_b_hat = v_b / (1 - beta2 ** (epoch + 1))\n",
        "\n",
        "        # Update weights and biases\n",
        "        w -= eta * m_w_hat / (np.sqrt(v_w_hat) + eps)\n",
        "        b -= eta * m_b_hat / (np.sqrt(v_b_hat) + eps)\n",
        "\n",
        "        # Track progress\n",
        "        w_history.append(w)\n",
        "        b_history.append(b)\n",
        "        error_history.append(compute_loss(w, b, X, Y))\n",
        "\n",
        "        # Print progress (every 100 epochs for example)\n",
        "        if epoch % 100 == 0:\n",
        "            print(f\"Epoch [{epoch+1}/{max_epochs}], Loss: {error_history[-1]:.4f}\")\n",
        "\n",
        "    return w, b, w_history, b_history, error_history"
      ],
      "metadata": {
        "id": "Lamk3Oc0Puuk"
      },
      "id": "Lamk3Oc0Puuk",
      "execution_count": null,
      "outputs": []
    },
    {
      "cell_type": "code",
      "source": [
        "def do_stochastic_gradient_descent(X, Y, init_w, init_b, eta=1.0, max_epochs=1000):\n",
        "    w = init_w\n",
        "    b = init_b\n",
        "\n",
        "    # Initialize history for tracking progress\n",
        "    w_history, b_history, error_history = [], [], []\n",
        "\n",
        "    for epoch in range(max_epochs):\n",
        "        dw, db = 0, 0  # Initialize gradients\n",
        "\n",
        "        for x, y in zip(X, Y):\n",
        "            dw_i = grad_w(w, b, x, y)  # Calculate gradient w.r.t. w\n",
        "            db_i = grad_b(w, b, x, y)  # Calculate gradient w.r.t. b\n",
        "\n",
        "            dw += dw_i\n",
        "            db += db_i\n",
        "\n",
        "        # Update weights and biases\n",
        "        w -= eta * dw\n",
        "        b -= eta * db\n",
        "\n",
        "        # Track progress\n",
        "        w_history.append(w)\n",
        "        b_history.append(b)\n",
        "        error_history.append(compute_loss(w, b, X, Y))\n",
        "\n",
        "        # Print progress (every 100 epochs for example)\n",
        "        if epoch % 100 == 0:\n",
        "            print(f\"Epoch [{epoch+1}/{max_epochs}], Loss: {error_history[-1]:.4f}\")\n",
        "\n",
        "    return w, b, w_history, b_history, error_history\n"
      ],
      "metadata": {
        "id": "W4_sCNmUPxec"
      },
      "id": "W4_sCNmUPxec",
      "execution_count": null,
      "outputs": []
    },
    {
      "cell_type": "code",
      "source": [
        "# Example Gradient Functions\n",
        "def grad_w(w, b, x, y):\n",
        "    # Calculate gradient of w (example for linear regression)\n",
        "    return (2 * (w * x + b - y) * x)\n",
        "\n",
        "def grad_b(w, b, x, y):\n",
        "    # Calculate gradient of b (example for linear regression)\n",
        "    return 2 * (w * x + b - y)\n",
        "# Example Loss Function\n",
        "def compute_loss(w, b, X, Y):\n",
        "    # Calculate Mean Squared Error (MSE) loss\n",
        "    loss = 0\n",
        "    for x, y in zip(X, Y):\n",
        "        loss += (w * x + b - y) ** 2\n",
        "    return loss.item() / len(X)  # Return a scalar value using .item()"
      ],
      "metadata": {
        "id": "UwEbpn6RP1Oc"
      },
      "id": "UwEbpn6RP1Oc",
      "execution_count": null,
      "outputs": []
    },
    {
      "cell_type": "code",
      "source": [
        "# Initialize your parameters (e.g., for a linear model)\n",
        "init_w, init_b = 0.0, 0.0\n",
        "eta = 0.1  # Learning rate\n",
        "max_epochs = 1000  # Number of epochs\n",
        "\n",
        "# Define your dataset (X and Y)\n",
        "X = np.random.randn(100, 1)  # 100 data points, 1 feature\n",
        "Y = 2 * X + 1 + np.random.randn(100, 1)  # Linear relation with noise\n",
        "\n",
        "# Train with Adam\n",
        "print(\"Training with Adam:\")\n",
        "w_adam, b_adam, w_history_adam, b_history_adam, error_history_adam = do_adam(X, Y, init_w, init_b, eta)\n",
        "\n",
        "# Train with SGD\n",
        "print(\"\\nTraining with SGD:\")\n",
        "w_sgd, b_sgd, w_history_sgd, b_history_sgd, error_history_sgd = do_stochastic_gradient_descent(X, Y, init_w, init_b, eta)\n"
      ],
      "metadata": {
        "colab": {
          "base_uri": "https://localhost:8080/"
        },
        "id": "rKRloFctP4Yz",
        "outputId": "55f1fcef-a247-480b-9d39-d6496d727049"
      },
      "id": "rKRloFctP4Yz",
      "execution_count": null,
      "outputs": [
        {
          "output_type": "stream",
          "name": "stdout",
          "text": [
            "Training with Adam:\n",
            "Epoch [1/1000], Loss: 6.4577\n",
            "Epoch [101/1000], Loss: 1.1130\n",
            "Epoch [201/1000], Loss: 1.1129\n",
            "Epoch [301/1000], Loss: 1.1129\n",
            "Epoch [401/1000], Loss: 1.1129\n",
            "Epoch [501/1000], Loss: 1.1129\n",
            "Epoch [601/1000], Loss: 1.1129\n",
            "Epoch [701/1000], Loss: 1.1129\n",
            "Epoch [801/1000], Loss: 1.1129\n",
            "Epoch [901/1000], Loss: 1.1129\n",
            "\n",
            "Training with SGD:\n",
            "Epoch [1/1000], Loss: 2883.5692\n",
            "Epoch [101/1000], Loss: 2510178465144244113340300210684942669579395679736910021573528789116357059295937257899920911675567082173163254437256490932426485239511590704837178253314683687536455959280117505003983726627160914490367494976834832017794096899307543809233055146005985582448743054878290292506624.0000\n"
          ]
        },
        {
          "output_type": "stream",
          "name": "stderr",
          "text": [
            "<ipython-input-50-8e8237a4ab97>:14: RuntimeWarning: overflow encountered in square\n",
            "  loss += (w * x + b - y) ** 2\n",
            "<ipython-input-47-9927bdd9f585>:15: RuntimeWarning: overflow encountered in add\n",
            "  dw += dw_i\n",
            "<ipython-input-47-9927bdd9f585>:16: RuntimeWarning: overflow encountered in add\n",
            "  db += db_i\n",
            "<ipython-input-50-8e8237a4ab97>:14: RuntimeWarning: invalid value encountered in add\n",
            "  loss += (w * x + b - y) ** 2\n",
            "<ipython-input-50-8e8237a4ab97>:4: RuntimeWarning: invalid value encountered in add\n",
            "  return (2 * (w * x + b - y) * x)\n",
            "<ipython-input-50-8e8237a4ab97>:8: RuntimeWarning: invalid value encountered in add\n",
            "  return 2 * (w * x + b - y)\n"
          ]
        },
        {
          "output_type": "stream",
          "name": "stdout",
          "text": [
            "Epoch [201/1000], Loss: inf\n",
            "Epoch [301/1000], Loss: nan\n",
            "Epoch [401/1000], Loss: nan\n",
            "Epoch [501/1000], Loss: nan\n",
            "Epoch [601/1000], Loss: nan\n",
            "Epoch [701/1000], Loss: nan\n",
            "Epoch [801/1000], Loss: nan\n",
            "Epoch [901/1000], Loss: nan\n"
          ]
        }
      ]
    },
    {
      "cell_type": "code",
      "source": [
        "# Loss and Optimizer (You can use either SGD or Adam)\n",
        "criterion = nn.CrossEntropyLoss()  # Use CrossEntropyLoss for multi-class classification\n",
        "optimizer_sgd = optim.SGD(model.parameters(), lr=0.01)\n",
        "optimizer_adam = optim.Adam(model.parameters(), lr=0.01)\n",
        "\n",
        "def train_model(optimizer, epochs=100):\n",
        "    loss_history = []\n",
        "    for epoch in range(epochs):\n",
        "        model.train()\n",
        "        optimizer.zero_grad()  # Clear previous gradients\n",
        "        outputs = model(X_train_tensor)  # Forward pass\n",
        "        loss = criterion(outputs, y_train_tensor)  # Compute loss\n",
        "        loss.backward()  # Backpropagation\n",
        "        optimizer.step()  # Update weights\n",
        "        loss_history.append(loss.item())\n",
        "        print(f'Epoch [{epoch+1}/{epochs}], Loss: {loss.item():.4f}')\n",
        "    return loss_history"
      ],
      "metadata": {
        "id": "k2J2S9NNOnhs"
      },
      "id": "k2J2S9NNOnhs",
      "execution_count": null,
      "outputs": []
    },
    {
      "cell_type": "code",
      "source": [
        "# Define the Keras model\n",
        "model1 = models.Sequential()\n",
        "model1.add(layers.InputLayer(input_shape=(4,), name=\"Input Layer\"))\n",
        "model1.add(layers.Dense(8, activation='relu', name=\"Hidden1\"))\n",
        "model1.add(layers.Dense(6, activation='relu', name=\"Hidden2\"))\n",
        "model1.add(layers.Dense(3, activation='softmax', name=\"OutputLayer\"))\n",
        "\n",
        "# Compile the model\n",
        "model1.compile(optimizer='sgd',\n",
        "               loss='sparse_categorical_crossentropy',  # For integer labels\n",
        "               metrics=['accuracy'])\n",
        "\n",
        "# Assuming X and y are your input and output data\n",
        "# Train the Keras model\n",
        "model1.fit(X, y, epochs=100, batch_size=64, validation_split=0.1)"
      ],
      "metadata": {
        "colab": {
          "base_uri": "https://localhost:8080/"
        },
        "id": "1tBmUqhU8X8U",
        "outputId": "a837aacc-5d72-4482-b568-65ec5327e53e"
      },
      "id": "1tBmUqhU8X8U",
      "execution_count": null,
      "outputs": [
        {
          "output_type": "stream",
          "name": "stdout",
          "text": [
            "Epoch 1/100\n"
          ]
        },
        {
          "output_type": "stream",
          "name": "stderr",
          "text": [
            "/usr/local/lib/python3.11/dist-packages/keras/src/layers/core/input_layer.py:27: UserWarning: Argument `input_shape` is deprecated. Use `shape` instead.\n",
            "  warnings.warn(\n"
          ]
        },
        {
          "output_type": "stream",
          "name": "stdout",
          "text": [
            "\u001b[1m2/2\u001b[0m \u001b[32m━━━━━━━━━━━━━━━━━━━━\u001b[0m\u001b[37m\u001b[0m \u001b[1m1s\u001b[0m 232ms/step - accuracy: 0.4087 - loss: 1.1360 - val_accuracy: 0.3000 - val_loss: 1.1514\n",
            "Epoch 2/100\n",
            "\u001b[1m2/2\u001b[0m \u001b[32m━━━━━━━━━━━━━━━━━━━━\u001b[0m\u001b[37m\u001b[0m \u001b[1m0s\u001b[0m 67ms/step - accuracy: 0.4325 - loss: 1.1142 - val_accuracy: 0.3000 - val_loss: 1.1499\n",
            "Epoch 3/100\n",
            "\u001b[1m2/2\u001b[0m \u001b[32m━━━━━━━━━━━━━━━━━━━━\u001b[0m\u001b[37m\u001b[0m \u001b[1m0s\u001b[0m 69ms/step - accuracy: 0.4273 - loss: 1.1251 - val_accuracy: 0.3000 - val_loss: 1.1484\n",
            "Epoch 4/100\n",
            "\u001b[1m2/2\u001b[0m \u001b[32m━━━━━━━━━━━━━━━━━━━━\u001b[0m\u001b[37m\u001b[0m \u001b[1m0s\u001b[0m 67ms/step - accuracy: 0.4429 - loss: 1.1239 - val_accuracy: 0.3000 - val_loss: 1.1473\n",
            "Epoch 5/100\n",
            "\u001b[1m2/2\u001b[0m \u001b[32m━━━━━━━━━━━━━━━━━━━━\u001b[0m\u001b[37m\u001b[0m \u001b[1m0s\u001b[0m 71ms/step - accuracy: 0.4481 - loss: 1.1180 - val_accuracy: 0.3000 - val_loss: 1.1460\n",
            "Epoch 6/100\n",
            "\u001b[1m2/2\u001b[0m \u001b[32m━━━━━━━━━━━━━━━━━━━━\u001b[0m\u001b[37m\u001b[0m \u001b[1m0s\u001b[0m 109ms/step - accuracy: 0.4117 - loss: 1.1257 - val_accuracy: 0.3000 - val_loss: 1.1451\n",
            "Epoch 7/100\n",
            "\u001b[1m2/2\u001b[0m \u001b[32m━━━━━━━━━━━━━━━━━━━━\u001b[0m\u001b[37m\u001b[0m \u001b[1m0s\u001b[0m 68ms/step - accuracy: 0.4065 - loss: 1.1350 - val_accuracy: 0.3000 - val_loss: 1.1444\n",
            "Epoch 8/100\n",
            "\u001b[1m2/2\u001b[0m \u001b[32m━━━━━━━━━━━━━━━━━━━━\u001b[0m\u001b[37m\u001b[0m \u001b[1m0s\u001b[0m 67ms/step - accuracy: 0.4169 - loss: 1.1174 - val_accuracy: 0.3000 - val_loss: 1.1433\n",
            "Epoch 9/100\n",
            "\u001b[1m2/2\u001b[0m \u001b[32m━━━━━━━━━━━━━━━━━━━━\u001b[0m\u001b[37m\u001b[0m \u001b[1m0s\u001b[0m 67ms/step - accuracy: 0.4117 - loss: 1.1252 - val_accuracy: 0.3000 - val_loss: 1.1426\n",
            "Epoch 10/100\n",
            "\u001b[1m2/2\u001b[0m \u001b[32m━━━━━━━━━━━━━━━━━━━━\u001b[0m\u001b[37m\u001b[0m \u001b[1m0s\u001b[0m 106ms/step - accuracy: 0.4377 - loss: 1.0993 - val_accuracy: 0.3000 - val_loss: 1.1414\n",
            "Epoch 11/100\n",
            "\u001b[1m2/2\u001b[0m \u001b[32m━━━━━━━━━━━━━━━━━━━━\u001b[0m\u001b[37m\u001b[0m \u001b[1m0s\u001b[0m 112ms/step - accuracy: 0.4087 - loss: 1.1366 - val_accuracy: 0.3000 - val_loss: 1.1411\n",
            "Epoch 12/100\n",
            "\u001b[1m2/2\u001b[0m \u001b[32m━━━━━━━━━━━━━━━━━━━━\u001b[0m\u001b[37m\u001b[0m \u001b[1m0s\u001b[0m 67ms/step - accuracy: 0.4347 - loss: 1.1174 - val_accuracy: 0.3000 - val_loss: 1.1405\n",
            "Epoch 13/100\n",
            "\u001b[1m2/2\u001b[0m \u001b[32m━━━━━━━━━━━━━━━━━━━━\u001b[0m\u001b[37m\u001b[0m \u001b[1m0s\u001b[0m 67ms/step - accuracy: 0.4295 - loss: 1.1245 - val_accuracy: 0.3000 - val_loss: 1.1399\n",
            "Epoch 14/100\n",
            "\u001b[1m2/2\u001b[0m \u001b[32m━━━━━━━━━━━━━━━━━━━━\u001b[0m\u001b[37m\u001b[0m \u001b[1m0s\u001b[0m 69ms/step - accuracy: 0.4399 - loss: 1.1131 - val_accuracy: 0.3000 - val_loss: 1.1390\n",
            "Epoch 15/100\n",
            "\u001b[1m2/2\u001b[0m \u001b[32m━━━━━━━━━━━━━━━━━━━━\u001b[0m\u001b[37m\u001b[0m \u001b[1m0s\u001b[0m 67ms/step - accuracy: 0.4451 - loss: 1.1004 - val_accuracy: 0.3000 - val_loss: 1.1381\n",
            "Epoch 16/100\n",
            "\u001b[1m2/2\u001b[0m \u001b[32m━━━━━━━━━━━━━━━━━━━━\u001b[0m\u001b[37m\u001b[0m \u001b[1m0s\u001b[0m 70ms/step - accuracy: 0.4295 - loss: 1.0959 - val_accuracy: 0.3000 - val_loss: 1.1369\n",
            "Epoch 17/100\n",
            "\u001b[1m2/2\u001b[0m \u001b[32m━━━━━━━━━━━━━━━━━━━━\u001b[0m\u001b[37m\u001b[0m \u001b[1m0s\u001b[0m 66ms/step - accuracy: 0.4399 - loss: 1.0929 - val_accuracy: 0.3000 - val_loss: 1.1358\n",
            "Epoch 18/100\n",
            "\u001b[1m2/2\u001b[0m \u001b[32m━━━━━━━━━━━━━━━━━━━━\u001b[0m\u001b[37m\u001b[0m \u001b[1m0s\u001b[0m 107ms/step - accuracy: 0.4525 - loss: 1.1030 - val_accuracy: 0.3000 - val_loss: 1.1351\n",
            "Epoch 19/100\n",
            "\u001b[1m2/2\u001b[0m \u001b[32m━━━━━━━━━━━━━━━━━━━━\u001b[0m\u001b[37m\u001b[0m \u001b[1m0s\u001b[0m 75ms/step - accuracy: 0.4652 - loss: 1.1080 - val_accuracy: 0.3000 - val_loss: 1.1344\n",
            "Epoch 20/100\n",
            "\u001b[1m2/2\u001b[0m \u001b[32m━━━━━━━━━━━━━━━━━━━━\u001b[0m\u001b[37m\u001b[0m \u001b[1m0s\u001b[0m 67ms/step - accuracy: 0.4391 - loss: 1.1120 - val_accuracy: 0.3000 - val_loss: 1.1337\n",
            "Epoch 21/100\n",
            "\u001b[1m2/2\u001b[0m \u001b[32m━━━━━━━━━━━━━━━━━━━━\u001b[0m\u001b[37m\u001b[0m \u001b[1m0s\u001b[0m 70ms/step - accuracy: 0.4756 - loss: 1.1012 - val_accuracy: 0.3000 - val_loss: 1.1329\n",
            "Epoch 22/100\n",
            "\u001b[1m2/2\u001b[0m \u001b[32m━━━━━━━━━━━━━━━━━━━━\u001b[0m\u001b[37m\u001b[0m \u001b[1m0s\u001b[0m 73ms/step - accuracy: 0.4391 - loss: 1.1164 - val_accuracy: 0.3000 - val_loss: 1.1327\n",
            "Epoch 23/100\n",
            "\u001b[1m2/2\u001b[0m \u001b[32m━━━━━━━━━━━━━━━━━━━━\u001b[0m\u001b[37m\u001b[0m \u001b[1m0s\u001b[0m 69ms/step - accuracy: 0.4391 - loss: 1.1085 - val_accuracy: 0.3000 - val_loss: 1.1324\n",
            "Epoch 24/100\n",
            "\u001b[1m2/2\u001b[0m \u001b[32m━━━━━━━━━━━━━━━━━━━━\u001b[0m\u001b[37m\u001b[0m \u001b[1m0s\u001b[0m 71ms/step - accuracy: 0.4600 - loss: 1.1044 - val_accuracy: 0.3000 - val_loss: 1.1320\n",
            "Epoch 25/100\n",
            "\u001b[1m2/2\u001b[0m \u001b[32m━━━━━━━━━━━━━━━━━━━━\u001b[0m\u001b[37m\u001b[0m \u001b[1m0s\u001b[0m 67ms/step - accuracy: 0.4317 - loss: 1.1034 - val_accuracy: 0.3000 - val_loss: 1.1316\n",
            "Epoch 26/100\n",
            "\u001b[1m2/2\u001b[0m \u001b[32m━━━━━━━━━━━━━━━━━━━━\u001b[0m\u001b[37m\u001b[0m \u001b[1m0s\u001b[0m 67ms/step - accuracy: 0.4317 - loss: 1.1046 - val_accuracy: 0.3000 - val_loss: 1.1308\n",
            "Epoch 27/100\n",
            "\u001b[1m2/2\u001b[0m \u001b[32m━━━━━━━━━━━━━━━━━━━━\u001b[0m\u001b[37m\u001b[0m \u001b[1m0s\u001b[0m 85ms/step - accuracy: 0.4525 - loss: 1.1036 - val_accuracy: 0.3000 - val_loss: 1.1303\n",
            "Epoch 28/100\n",
            "\u001b[1m2/2\u001b[0m \u001b[32m━━━━━━━━━━━━━━━━━━━━\u001b[0m\u001b[37m\u001b[0m \u001b[1m0s\u001b[0m 77ms/step - accuracy: 0.4503 - loss: 1.0922 - val_accuracy: 0.3000 - val_loss: 1.1296\n",
            "Epoch 29/100\n",
            "\u001b[1m2/2\u001b[0m \u001b[32m━━━━━━━━━━━━━━━━━━━━\u001b[0m\u001b[37m\u001b[0m \u001b[1m0s\u001b[0m 68ms/step - accuracy: 0.4481 - loss: 1.0913 - val_accuracy: 0.3000 - val_loss: 1.1289\n",
            "Epoch 30/100\n",
            "\u001b[1m2/2\u001b[0m \u001b[32m━━━━━━━━━━━━━━━━━━━━\u001b[0m\u001b[37m\u001b[0m \u001b[1m0s\u001b[0m 68ms/step - accuracy: 0.4169 - loss: 1.1070 - val_accuracy: 0.3000 - val_loss: 1.1287\n",
            "Epoch 31/100\n",
            "\u001b[1m2/2\u001b[0m \u001b[32m━━━━━━━━━━━━━━━━━━━━\u001b[0m\u001b[37m\u001b[0m \u001b[1m0s\u001b[0m 68ms/step - accuracy: 0.4221 - loss: 1.0999 - val_accuracy: 0.3000 - val_loss: 1.1283\n",
            "Epoch 32/100\n",
            "\u001b[1m2/2\u001b[0m \u001b[32m━━━━━━━━━━━━━━━━━━━━\u001b[0m\u001b[37m\u001b[0m \u001b[1m0s\u001b[0m 68ms/step - accuracy: 0.4221 - loss: 1.0948 - val_accuracy: 0.3000 - val_loss: 1.1279\n",
            "Epoch 33/100\n",
            "\u001b[1m2/2\u001b[0m \u001b[32m━━━━━━━━━━━━━━━━━━━━\u001b[0m\u001b[37m\u001b[0m \u001b[1m0s\u001b[0m 70ms/step - accuracy: 0.4451 - loss: 1.0990 - val_accuracy: 0.3000 - val_loss: 1.1275\n",
            "Epoch 34/100\n",
            "\u001b[1m2/2\u001b[0m \u001b[32m━━━━━━━━━━━━━━━━━━━━\u001b[0m\u001b[37m\u001b[0m \u001b[1m0s\u001b[0m 131ms/step - accuracy: 0.4556 - loss: 1.0845 - val_accuracy: 0.3000 - val_loss: 1.1269\n",
            "Epoch 35/100\n",
            "\u001b[1m2/2\u001b[0m \u001b[32m━━━━━━━━━━━━━━━━━━━━\u001b[0m\u001b[37m\u001b[0m \u001b[1m0s\u001b[0m 111ms/step - accuracy: 0.4191 - loss: 1.1072 - val_accuracy: 0.3000 - val_loss: 1.1267\n",
            "Epoch 36/100\n",
            "\u001b[1m2/2\u001b[0m \u001b[32m━━━━━━━━━━━━━━━━━━━━\u001b[0m\u001b[37m\u001b[0m \u001b[1m0s\u001b[0m 130ms/step - accuracy: 0.4243 - loss: 1.1027 - val_accuracy: 0.3000 - val_loss: 1.1267\n",
            "Epoch 37/100\n",
            "\u001b[1m2/2\u001b[0m \u001b[32m━━━━━━━━━━━━━━━━━━━━\u001b[0m\u001b[37m\u001b[0m \u001b[1m0s\u001b[0m 140ms/step - accuracy: 0.4243 - loss: 1.0964 - val_accuracy: 0.3000 - val_loss: 1.1263\n",
            "Epoch 38/100\n",
            "\u001b[1m2/2\u001b[0m \u001b[32m━━━━━━━━━━━━━━━━━━━━\u001b[0m\u001b[37m\u001b[0m \u001b[1m0s\u001b[0m 95ms/step - accuracy: 0.4503 - loss: 1.0862 - val_accuracy: 0.3000 - val_loss: 1.1257\n",
            "Epoch 39/100\n",
            "\u001b[1m2/2\u001b[0m \u001b[32m━━━━━━━━━━━━━━━━━━━━\u001b[0m\u001b[37m\u001b[0m \u001b[1m0s\u001b[0m 117ms/step - accuracy: 0.4169 - loss: 1.0899 - val_accuracy: 0.3000 - val_loss: 1.1255\n",
            "Epoch 40/100\n",
            "\u001b[1m2/2\u001b[0m \u001b[32m━━━━━━━━━━━━━━━━━━━━\u001b[0m\u001b[37m\u001b[0m \u001b[1m0s\u001b[0m 125ms/step - accuracy: 0.4377 - loss: 1.0807 - val_accuracy: 0.3000 - val_loss: 1.1248\n",
            "Epoch 41/100\n",
            "\u001b[1m2/2\u001b[0m \u001b[32m━━━━━━━━━━━━━━━━━━━━\u001b[0m\u001b[37m\u001b[0m \u001b[1m0s\u001b[0m 127ms/step - accuracy: 0.4325 - loss: 1.0847 - val_accuracy: 0.3000 - val_loss: 1.1246\n",
            "Epoch 42/100\n",
            "\u001b[1m2/2\u001b[0m \u001b[32m━━━━━━━━━━━━━━━━━━━━\u001b[0m\u001b[37m\u001b[0m \u001b[1m0s\u001b[0m 114ms/step - accuracy: 0.4221 - loss: 1.0854 - val_accuracy: 0.3000 - val_loss: 1.1242\n",
            "Epoch 43/100\n",
            "\u001b[1m2/2\u001b[0m \u001b[32m━━━━━━━━━━━━━━━━━━━━\u001b[0m\u001b[37m\u001b[0m \u001b[1m0s\u001b[0m 111ms/step - accuracy: 0.4273 - loss: 1.0862 - val_accuracy: 0.3000 - val_loss: 1.1236\n",
            "Epoch 44/100\n",
            "\u001b[1m2/2\u001b[0m \u001b[32m━━━━━━━━━━━━━━━━━━━━\u001b[0m\u001b[37m\u001b[0m \u001b[1m0s\u001b[0m 107ms/step - accuracy: 0.4273 - loss: 1.0914 - val_accuracy: 0.3000 - val_loss: 1.1235\n",
            "Epoch 45/100\n",
            "\u001b[1m2/2\u001b[0m \u001b[32m━━━━━━━━━━━━━━━━━━━━\u001b[0m\u001b[37m\u001b[0m \u001b[1m0s\u001b[0m 146ms/step - accuracy: 0.4065 - loss: 1.1004 - val_accuracy: 0.3000 - val_loss: 1.1233\n",
            "Epoch 46/100\n",
            "\u001b[1m2/2\u001b[0m \u001b[32m━━━━━━━━━━━━━━━━━━━━\u001b[0m\u001b[37m\u001b[0m \u001b[1m0s\u001b[0m 71ms/step - accuracy: 0.4065 - loss: 1.0933 - val_accuracy: 0.3000 - val_loss: 1.1230\n",
            "Epoch 47/100\n",
            "\u001b[1m2/2\u001b[0m \u001b[32m━━━━━━━━━━━━━━━━━━━━\u001b[0m\u001b[37m\u001b[0m \u001b[1m0s\u001b[0m 70ms/step - accuracy: 0.4117 - loss: 1.0931 - val_accuracy: 0.3000 - val_loss: 1.1227\n",
            "Epoch 48/100\n",
            "\u001b[1m2/2\u001b[0m \u001b[32m━━━━━━━━━━━━━━━━━━━━\u001b[0m\u001b[37m\u001b[0m \u001b[1m0s\u001b[0m 77ms/step - accuracy: 0.4273 - loss: 1.0830 - val_accuracy: 0.3000 - val_loss: 1.1223\n",
            "Epoch 49/100\n",
            "\u001b[1m2/2\u001b[0m \u001b[32m━━━━━━━━━━━━━━━━━━━━\u001b[0m\u001b[37m\u001b[0m \u001b[1m0s\u001b[0m 70ms/step - accuracy: 0.4377 - loss: 1.0773 - val_accuracy: 0.3000 - val_loss: 1.1219\n",
            "Epoch 50/100\n",
            "\u001b[1m2/2\u001b[0m \u001b[32m━━━━━━━━━━━━━━━━━━━━\u001b[0m\u001b[37m\u001b[0m \u001b[1m0s\u001b[0m 69ms/step - accuracy: 0.4295 - loss: 1.0876 - val_accuracy: 0.3000 - val_loss: 1.1216\n",
            "Epoch 51/100\n",
            "\u001b[1m2/2\u001b[0m \u001b[32m━━━━━━━━━━━━━━━━━━━━\u001b[0m\u001b[37m\u001b[0m \u001b[1m0s\u001b[0m 71ms/step - accuracy: 0.4243 - loss: 1.0942 - val_accuracy: 0.3000 - val_loss: 1.1216\n",
            "Epoch 52/100\n",
            "\u001b[1m2/2\u001b[0m \u001b[32m━━━━━━━━━━━━━━━━━━━━\u001b[0m\u001b[37m\u001b[0m \u001b[1m0s\u001b[0m 71ms/step - accuracy: 0.4295 - loss: 1.0959 - val_accuracy: 0.3000 - val_loss: 1.1217\n",
            "Epoch 53/100\n",
            "\u001b[1m2/2\u001b[0m \u001b[32m━━━━━━━━━━━━━━━━━━━━\u001b[0m\u001b[37m\u001b[0m \u001b[1m0s\u001b[0m 109ms/step - accuracy: 0.4347 - loss: 1.0803 - val_accuracy: 0.3000 - val_loss: 1.1213\n",
            "Epoch 54/100\n",
            "\u001b[1m2/2\u001b[0m \u001b[32m━━━━━━━━━━━━━━━━━━━━\u001b[0m\u001b[37m\u001b[0m \u001b[1m0s\u001b[0m 71ms/step - accuracy: 0.4295 - loss: 1.0868 - val_accuracy: 0.3000 - val_loss: 1.1213\n",
            "Epoch 55/100\n",
            "\u001b[1m2/2\u001b[0m \u001b[32m━━━━━━━━━━━━━━━━━━━━\u001b[0m\u001b[37m\u001b[0m \u001b[1m0s\u001b[0m 70ms/step - accuracy: 0.4295 - loss: 1.0937 - val_accuracy: 0.3000 - val_loss: 1.1210\n",
            "Epoch 56/100\n",
            "\u001b[1m2/2\u001b[0m \u001b[32m━━━━━━━━━━━━━━━━━━━━\u001b[0m\u001b[37m\u001b[0m \u001b[1m0s\u001b[0m 82ms/step - accuracy: 0.4399 - loss: 1.0778 - val_accuracy: 0.3000 - val_loss: 1.1208\n",
            "Epoch 57/100\n",
            "\u001b[1m2/2\u001b[0m \u001b[32m━━━━━━━━━━━━━━━━━━━━\u001b[0m\u001b[37m\u001b[0m \u001b[1m0s\u001b[0m 72ms/step - accuracy: 0.4503 - loss: 1.0803 - val_accuracy: 0.3000 - val_loss: 1.1207\n",
            "Epoch 58/100\n",
            "\u001b[1m2/2\u001b[0m \u001b[32m━━━━━━━━━━━━━━━━━━━━\u001b[0m\u001b[37m\u001b[0m \u001b[1m0s\u001b[0m 70ms/step - accuracy: 0.4503 - loss: 1.0771 - val_accuracy: 0.3000 - val_loss: 1.1202\n",
            "Epoch 59/100\n",
            "\u001b[1m2/2\u001b[0m \u001b[32m━━━━━━━━━━━━━━━━━━━━\u001b[0m\u001b[37m\u001b[0m \u001b[1m0s\u001b[0m 71ms/step - accuracy: 0.4503 - loss: 1.0756 - val_accuracy: 0.3000 - val_loss: 1.1197\n",
            "Epoch 60/100\n",
            "\u001b[1m2/2\u001b[0m \u001b[32m━━━━━━━━━━━━━━━━━━━━\u001b[0m\u001b[37m\u001b[0m \u001b[1m0s\u001b[0m 70ms/step - accuracy: 0.4295 - loss: 1.0893 - val_accuracy: 0.3000 - val_loss: 1.1197\n",
            "Epoch 61/100\n",
            "\u001b[1m2/2\u001b[0m \u001b[32m━━━━━━━━━━━━━━━━━━━━\u001b[0m\u001b[37m\u001b[0m \u001b[1m0s\u001b[0m 83ms/step - accuracy: 0.4503 - loss: 1.0731 - val_accuracy: 0.3000 - val_loss: 1.1192\n",
            "Epoch 62/100\n",
            "\u001b[1m2/2\u001b[0m \u001b[32m━━━━━━━━━━━━━━━━━━━━\u001b[0m\u001b[37m\u001b[0m \u001b[1m0s\u001b[0m 73ms/step - accuracy: 0.4347 - loss: 1.0803 - val_accuracy: 0.2000 - val_loss: 1.1190\n",
            "Epoch 63/100\n",
            "\u001b[1m2/2\u001b[0m \u001b[32m━━━━━━━━━━━━━━━━━━━━\u001b[0m\u001b[37m\u001b[0m \u001b[1m0s\u001b[0m 73ms/step - accuracy: 0.4191 - loss: 1.0896 - val_accuracy: 0.2000 - val_loss: 1.1190\n",
            "Epoch 64/100\n",
            "\u001b[1m2/2\u001b[0m \u001b[32m━━━━━━━━━━━━━━━━━━━━\u001b[0m\u001b[37m\u001b[0m \u001b[1m0s\u001b[0m 80ms/step - accuracy: 0.4243 - loss: 1.0925 - val_accuracy: 0.2000 - val_loss: 1.1191\n",
            "Epoch 65/100\n",
            "\u001b[1m2/2\u001b[0m \u001b[32m━━━━━━━━━━━━━━━━━━━━\u001b[0m\u001b[37m\u001b[0m \u001b[1m0s\u001b[0m 73ms/step - accuracy: 0.4399 - loss: 1.0778 - val_accuracy: 0.2000 - val_loss: 1.1186\n",
            "Epoch 66/100\n",
            "\u001b[1m2/2\u001b[0m \u001b[32m━━━━━━━━━━━━━━━━━━━━\u001b[0m\u001b[37m\u001b[0m \u001b[1m0s\u001b[0m 74ms/step - accuracy: 0.4243 - loss: 1.0889 - val_accuracy: 0.2000 - val_loss: 1.1185\n",
            "Epoch 67/100\n",
            "\u001b[1m2/2\u001b[0m \u001b[32m━━━━━━━━━━━━━━━━━━━━\u001b[0m\u001b[37m\u001b[0m \u001b[1m0s\u001b[0m 72ms/step - accuracy: 0.4243 - loss: 1.0786 - val_accuracy: 0.2000 - val_loss: 1.1182\n",
            "Epoch 68/100\n",
            "\u001b[1m2/2\u001b[0m \u001b[32m━━━━━━━━━━━━━━━━━━━━\u001b[0m\u001b[37m\u001b[0m \u001b[1m0s\u001b[0m 71ms/step - accuracy: 0.4013 - loss: 1.0905 - val_accuracy: 0.2000 - val_loss: 1.1183\n",
            "Epoch 69/100\n",
            "\u001b[1m2/2\u001b[0m \u001b[32m━━━━━━━━━━━━━━━━━━━━\u001b[0m\u001b[37m\u001b[0m \u001b[1m0s\u001b[0m 74ms/step - accuracy: 0.4221 - loss: 1.0821 - val_accuracy: 0.2000 - val_loss: 1.1183\n",
            "Epoch 70/100\n",
            "\u001b[1m2/2\u001b[0m \u001b[32m━━━━━━━━━━━━━━━━━━━━\u001b[0m\u001b[37m\u001b[0m \u001b[1m0s\u001b[0m 68ms/step - accuracy: 0.4421 - loss: 1.0828 - val_accuracy: 0.2000 - val_loss: 1.1182\n",
            "Epoch 71/100\n",
            "\u001b[1m2/2\u001b[0m \u001b[32m━━━━━━━━━━━━━━━━━━━━\u001b[0m\u001b[37m\u001b[0m \u001b[1m0s\u001b[0m 70ms/step - accuracy: 0.4578 - loss: 1.0885 - val_accuracy: 0.2000 - val_loss: 1.1181\n",
            "Epoch 72/100\n",
            "\u001b[1m2/2\u001b[0m \u001b[32m━━━━━━━━━━━━━━━━━━━━\u001b[0m\u001b[37m\u001b[0m \u001b[1m0s\u001b[0m 81ms/step - accuracy: 0.4421 - loss: 1.0839 - val_accuracy: 0.2000 - val_loss: 1.1179\n",
            "Epoch 73/100\n",
            "\u001b[1m2/2\u001b[0m \u001b[32m━━━━━━━━━━━━━━━━━━━━\u001b[0m\u001b[37m\u001b[0m \u001b[1m0s\u001b[0m 72ms/step - accuracy: 0.4317 - loss: 1.0835 - val_accuracy: 0.2000 - val_loss: 1.1179\n",
            "Epoch 74/100\n",
            "\u001b[1m2/2\u001b[0m \u001b[32m━━━━━━━━━━━━━━━━━━━━\u001b[0m\u001b[37m\u001b[0m \u001b[1m0s\u001b[0m 70ms/step - accuracy: 0.4421 - loss: 1.0856 - val_accuracy: 0.2000 - val_loss: 1.1178\n",
            "Epoch 75/100\n",
            "\u001b[1m2/2\u001b[0m \u001b[32m━━━━━━━━━━━━━━━━━━━━\u001b[0m\u001b[37m\u001b[0m \u001b[1m0s\u001b[0m 74ms/step - accuracy: 0.4265 - loss: 1.0868 - val_accuracy: 0.2000 - val_loss: 1.1176\n",
            "Epoch 76/100\n",
            "\u001b[1m2/2\u001b[0m \u001b[32m━━━━━━━━━━━━━━━━━━━━\u001b[0m\u001b[37m\u001b[0m \u001b[1m0s\u001b[0m 111ms/step - accuracy: 0.4525 - loss: 1.0712 - val_accuracy: 0.2000 - val_loss: 1.1173\n",
            "Epoch 77/100\n",
            "\u001b[1m2/2\u001b[0m \u001b[32m━━━━━━━━━━━━━━━━━━━━\u001b[0m\u001b[37m\u001b[0m \u001b[1m0s\u001b[0m 70ms/step - accuracy: 0.4421 - loss: 1.0846 - val_accuracy: 0.2000 - val_loss: 1.1173\n",
            "Epoch 78/100\n",
            "\u001b[1m2/2\u001b[0m \u001b[32m━━━━━━━━━━━━━━━━━━━━\u001b[0m\u001b[37m\u001b[0m \u001b[1m0s\u001b[0m 111ms/step - accuracy: 0.4682 - loss: 1.0716 - val_accuracy: 0.2000 - val_loss: 1.1170\n",
            "Epoch 79/100\n",
            "\u001b[1m2/2\u001b[0m \u001b[32m━━━━━━━━━━━━━━━━━━━━\u001b[0m\u001b[37m\u001b[0m \u001b[1m0s\u001b[0m 70ms/step - accuracy: 0.4503 - loss: 1.0673 - val_accuracy: 0.2000 - val_loss: 1.1167\n",
            "Epoch 80/100\n",
            "\u001b[1m2/2\u001b[0m \u001b[32m━━━━━━━━━━━━━━━━━━━━\u001b[0m\u001b[37m\u001b[0m \u001b[1m0s\u001b[0m 71ms/step - accuracy: 0.4399 - loss: 1.0751 - val_accuracy: 0.2000 - val_loss: 1.1164\n",
            "Epoch 81/100\n",
            "\u001b[1m2/2\u001b[0m \u001b[32m━━━━━━━━━━━━━━━━━━━━\u001b[0m\u001b[37m\u001b[0m \u001b[1m0s\u001b[0m 68ms/step - accuracy: 0.4399 - loss: 1.0744 - val_accuracy: 0.2000 - val_loss: 1.1163\n",
            "Epoch 82/100\n",
            "\u001b[1m2/2\u001b[0m \u001b[32m━━━━━━━━━━━━━━━━━━━━\u001b[0m\u001b[37m\u001b[0m \u001b[1m0s\u001b[0m 70ms/step - accuracy: 0.4295 - loss: 1.0747 - val_accuracy: 0.2000 - val_loss: 1.1163\n",
            "Epoch 83/100\n",
            "\u001b[1m2/2\u001b[0m \u001b[32m━━━━━━━━━━━━━━━━━━━━\u001b[0m\u001b[37m\u001b[0m \u001b[1m0s\u001b[0m 70ms/step - accuracy: 0.4295 - loss: 1.0774 - val_accuracy: 0.2000 - val_loss: 1.1160\n",
            "Epoch 84/100\n",
            "\u001b[1m2/2\u001b[0m \u001b[32m━━━━━━━━━━━━━━━━━━━━\u001b[0m\u001b[37m\u001b[0m \u001b[1m0s\u001b[0m 79ms/step - accuracy: 0.4399 - loss: 1.0768 - val_accuracy: 0.2000 - val_loss: 1.1159\n",
            "Epoch 85/100\n",
            "\u001b[1m2/2\u001b[0m \u001b[32m━━━━━━━━━━━━━━━━━━━━\u001b[0m\u001b[37m\u001b[0m \u001b[1m0s\u001b[0m 69ms/step - accuracy: 0.4087 - loss: 1.0873 - val_accuracy: 0.2000 - val_loss: 1.1159\n",
            "Epoch 86/100\n",
            "\u001b[1m2/2\u001b[0m \u001b[32m━━━━━━━━━━━━━━━━━━━━\u001b[0m\u001b[37m\u001b[0m \u001b[1m0s\u001b[0m 71ms/step - accuracy: 0.4451 - loss: 1.0715 - val_accuracy: 0.2000 - val_loss: 1.1157\n",
            "Epoch 87/100\n",
            "\u001b[1m2/2\u001b[0m \u001b[32m━━━━━━━━━━━━━━━━━━━━\u001b[0m\u001b[37m\u001b[0m \u001b[1m0s\u001b[0m 70ms/step - accuracy: 0.4503 - loss: 1.0615 - val_accuracy: 0.2000 - val_loss: 1.1153\n",
            "Epoch 88/100\n",
            "\u001b[1m2/2\u001b[0m \u001b[32m━━━━━━━━━━━━━━━━━━━━\u001b[0m\u001b[37m\u001b[0m \u001b[1m0s\u001b[0m 70ms/step - accuracy: 0.4369 - loss: 1.0715 - val_accuracy: 0.2000 - val_loss: 1.1152\n",
            "Epoch 89/100\n",
            "\u001b[1m2/2\u001b[0m \u001b[32m━━━━━━━━━━━━━━━━━━━━\u001b[0m\u001b[37m\u001b[0m \u001b[1m0s\u001b[0m 71ms/step - accuracy: 0.4369 - loss: 1.0776 - val_accuracy: 0.2000 - val_loss: 1.1151\n",
            "Epoch 90/100\n",
            "\u001b[1m2/2\u001b[0m \u001b[32m━━━━━━━━━━━━━━━━━━━━\u001b[0m\u001b[37m\u001b[0m \u001b[1m0s\u001b[0m 72ms/step - accuracy: 0.4317 - loss: 1.0689 - val_accuracy: 0.2000 - val_loss: 1.1148\n",
            "Epoch 91/100\n",
            "\u001b[1m2/2\u001b[0m \u001b[32m━━━━━━━━━━━━━━━━━━━━\u001b[0m\u001b[37m\u001b[0m \u001b[1m0s\u001b[0m 68ms/step - accuracy: 0.4525 - loss: 1.0719 - val_accuracy: 0.2000 - val_loss: 1.1148\n",
            "Epoch 92/100\n",
            "\u001b[1m2/2\u001b[0m \u001b[32m━━━━━━━━━━━━━━━━━━━━\u001b[0m\u001b[37m\u001b[0m \u001b[1m0s\u001b[0m 68ms/step - accuracy: 0.4317 - loss: 1.0821 - val_accuracy: 0.2000 - val_loss: 1.1147\n",
            "Epoch 93/100\n",
            "\u001b[1m2/2\u001b[0m \u001b[32m━━━━━━━━━━━━━━━━━━━━\u001b[0m\u001b[37m\u001b[0m \u001b[1m0s\u001b[0m 67ms/step - accuracy: 0.4525 - loss: 1.0677 - val_accuracy: 0.2000 - val_loss: 1.1144\n",
            "Epoch 94/100\n",
            "\u001b[1m2/2\u001b[0m \u001b[32m━━━━━━━━━━━━━━━━━━━━\u001b[0m\u001b[37m\u001b[0m \u001b[1m0s\u001b[0m 69ms/step - accuracy: 0.4421 - loss: 1.0758 - val_accuracy: 0.2000 - val_loss: 1.1142\n",
            "Epoch 95/100\n",
            "\u001b[1m2/2\u001b[0m \u001b[32m━━━━━━━━━━━━━━━━━━━━\u001b[0m\u001b[37m\u001b[0m \u001b[1m0s\u001b[0m 112ms/step - accuracy: 0.4317 - loss: 1.0774 - val_accuracy: 0.2000 - val_loss: 1.1143\n",
            "Epoch 96/100\n",
            "\u001b[1m2/2\u001b[0m \u001b[32m━━━━━━━━━━━━━━━━━━━━\u001b[0m\u001b[37m\u001b[0m \u001b[1m0s\u001b[0m 68ms/step - accuracy: 0.4347 - loss: 1.0721 - val_accuracy: 0.2000 - val_loss: 1.1141\n",
            "Epoch 97/100\n",
            "\u001b[1m2/2\u001b[0m \u001b[32m━━━━━━━━━━━━━━━━━━━━\u001b[0m\u001b[37m\u001b[0m \u001b[1m0s\u001b[0m 68ms/step - accuracy: 0.4608 - loss: 1.0633 - val_accuracy: 0.2000 - val_loss: 1.1138\n",
            "Epoch 98/100\n",
            "\u001b[1m2/2\u001b[0m \u001b[32m━━━━━━━━━━━━━━━━━━━━\u001b[0m\u001b[37m\u001b[0m \u001b[1m0s\u001b[0m 69ms/step - accuracy: 0.4347 - loss: 1.0710 - val_accuracy: 0.2000 - val_loss: 1.1136\n",
            "Epoch 99/100\n",
            "\u001b[1m2/2\u001b[0m \u001b[32m━━━━━━━━━━━━━━━━━━━━\u001b[0m\u001b[37m\u001b[0m \u001b[1m0s\u001b[0m 82ms/step - accuracy: 0.4295 - loss: 1.0692 - val_accuracy: 0.2000 - val_loss: 1.1135\n",
            "Epoch 100/100\n",
            "\u001b[1m2/2\u001b[0m \u001b[32m━━━━━━━━━━━━━━━━━━━━\u001b[0m\u001b[37m\u001b[0m \u001b[1m0s\u001b[0m 70ms/step - accuracy: 0.4243 - loss: 1.0792 - val_accuracy: 0.2000 - val_loss: 1.1135\n"
          ]
        },
        {
          "output_type": "execute_result",
          "data": {
            "text/plain": [
              "<keras.src.callbacks.history.History at 0x7c287fe0b690>"
            ]
          },
          "metadata": {},
          "execution_count": 45
        }
      ]
    },
    {
      "cell_type": "code",
      "source": [
        "# Train with Adam Optimizer\n",
        "print(\"\\nTraining with Adam Optimizer:\")\n",
        "adam_loss_history = train_model(optimizer_adam)"
      ],
      "metadata": {
        "colab": {
          "base_uri": "https://localhost:8080/"
        },
        "id": "95igaH9W6GJ8",
        "outputId": "f6c65b4c-9b02-4d66-daae-6e35725c8e05"
      },
      "id": "95igaH9W6GJ8",
      "execution_count": null,
      "outputs": [
        {
          "output_type": "stream",
          "name": "stdout",
          "text": [
            "\n",
            "Training with Adam Optimizer:\n",
            "Epoch [1/100], Loss: 1.0981\n",
            "Epoch [2/100], Loss: 1.0953\n",
            "Epoch [3/100], Loss: 1.0925\n",
            "Epoch [4/100], Loss: 1.0896\n",
            "Epoch [5/100], Loss: 1.0867\n",
            "Epoch [6/100], Loss: 1.0837\n",
            "Epoch [7/100], Loss: 1.0806\n",
            "Epoch [8/100], Loss: 1.0774\n",
            "Epoch [9/100], Loss: 1.0741\n",
            "Epoch [10/100], Loss: 1.0706\n",
            "Epoch [11/100], Loss: 1.0670\n",
            "Epoch [12/100], Loss: 1.0633\n",
            "Epoch [13/100], Loss: 1.0594\n",
            "Epoch [14/100], Loss: 1.0552\n",
            "Epoch [15/100], Loss: 1.0508\n",
            "Epoch [16/100], Loss: 1.0460\n",
            "Epoch [17/100], Loss: 1.0410\n",
            "Epoch [18/100], Loss: 1.0358\n",
            "Epoch [19/100], Loss: 1.0305\n",
            "Epoch [20/100], Loss: 1.0250\n",
            "Epoch [21/100], Loss: 1.0194\n",
            "Epoch [22/100], Loss: 1.0136\n",
            "Epoch [23/100], Loss: 1.0077\n",
            "Epoch [24/100], Loss: 1.0016\n",
            "Epoch [25/100], Loss: 0.9952\n",
            "Epoch [26/100], Loss: 0.9886\n",
            "Epoch [27/100], Loss: 0.9817\n",
            "Epoch [28/100], Loss: 0.9744\n",
            "Epoch [29/100], Loss: 0.9668\n",
            "Epoch [30/100], Loss: 0.9588\n",
            "Epoch [31/100], Loss: 0.9506\n",
            "Epoch [32/100], Loss: 0.9424\n",
            "Epoch [33/100], Loss: 0.9341\n",
            "Epoch [34/100], Loss: 0.9259\n",
            "Epoch [35/100], Loss: 0.9178\n",
            "Epoch [36/100], Loss: 0.9097\n",
            "Epoch [37/100], Loss: 0.9014\n",
            "Epoch [38/100], Loss: 0.8929\n",
            "Epoch [39/100], Loss: 0.8843\n",
            "Epoch [40/100], Loss: 0.8755\n",
            "Epoch [41/100], Loss: 0.8668\n",
            "Epoch [42/100], Loss: 0.8582\n",
            "Epoch [43/100], Loss: 0.8498\n",
            "Epoch [44/100], Loss: 0.8418\n",
            "Epoch [45/100], Loss: 0.8343\n",
            "Epoch [46/100], Loss: 0.8271\n",
            "Epoch [47/100], Loss: 0.8204\n",
            "Epoch [48/100], Loss: 0.8142\n",
            "Epoch [49/100], Loss: 0.8084\n",
            "Epoch [50/100], Loss: 0.8030\n",
            "Epoch [51/100], Loss: 0.7979\n",
            "Epoch [52/100], Loss: 0.7931\n",
            "Epoch [53/100], Loss: 0.7885\n",
            "Epoch [54/100], Loss: 0.7841\n",
            "Epoch [55/100], Loss: 0.7798\n",
            "Epoch [56/100], Loss: 0.7757\n",
            "Epoch [57/100], Loss: 0.7717\n",
            "Epoch [58/100], Loss: 0.7680\n",
            "Epoch [59/100], Loss: 0.7645\n",
            "Epoch [60/100], Loss: 0.7613\n",
            "Epoch [61/100], Loss: 0.7584\n",
            "Epoch [62/100], Loss: 0.7556\n",
            "Epoch [63/100], Loss: 0.7531\n",
            "Epoch [64/100], Loss: 0.7508\n",
            "Epoch [65/100], Loss: 0.7487\n",
            "Epoch [66/100], Loss: 0.7468\n",
            "Epoch [67/100], Loss: 0.7449\n",
            "Epoch [68/100], Loss: 0.7431\n",
            "Epoch [69/100], Loss: 0.7413\n",
            "Epoch [70/100], Loss: 0.7396\n",
            "Epoch [71/100], Loss: 0.7380\n",
            "Epoch [72/100], Loss: 0.7364\n",
            "Epoch [73/100], Loss: 0.7348\n",
            "Epoch [74/100], Loss: 0.7333\n",
            "Epoch [75/100], Loss: 0.7319\n",
            "Epoch [76/100], Loss: 0.7305\n",
            "Epoch [77/100], Loss: 0.7293\n",
            "Epoch [78/100], Loss: 0.7281\n",
            "Epoch [79/100], Loss: 0.7269\n",
            "Epoch [80/100], Loss: 0.7257\n",
            "Epoch [81/100], Loss: 0.7246\n",
            "Epoch [82/100], Loss: 0.7234\n",
            "Epoch [83/100], Loss: 0.7222\n",
            "Epoch [84/100], Loss: 0.7211\n",
            "Epoch [85/100], Loss: 0.7200\n",
            "Epoch [86/100], Loss: 0.7190\n",
            "Epoch [87/100], Loss: 0.7180\n",
            "Epoch [88/100], Loss: 0.7171\n",
            "Epoch [89/100], Loss: 0.7162\n",
            "Epoch [90/100], Loss: 0.7154\n",
            "Epoch [91/100], Loss: 0.7146\n",
            "Epoch [92/100], Loss: 0.7138\n",
            "Epoch [93/100], Loss: 0.7130\n",
            "Epoch [94/100], Loss: 0.7123\n",
            "Epoch [95/100], Loss: 0.7117\n",
            "Epoch [96/100], Loss: 0.7110\n",
            "Epoch [97/100], Loss: 0.7104\n",
            "Epoch [98/100], Loss: 0.7098\n",
            "Epoch [99/100], Loss: 0.7092\n",
            "Epoch [100/100], Loss: 0.7085\n"
          ]
        }
      ]
    },
    {
      "cell_type": "code",
      "source": [
        "# Step 5: Evaluate Model Performance\n",
        "def evaluate_model():\n",
        "    with torch.no_grad():\n",
        "        predictions = model(X_test_tensor)\n",
        "        predicted_classes = torch.argmax(predictions, dim=1)\n",
        "        actual_classes = torch.argmax(y_test_tensor, dim=1)\n",
        "        accuracy = accuracy_score(actual_classes.numpy(), predicted_classes.numpy())\n",
        "        print(f'Accuracy: {accuracy:.4f}')\n",
        "\n",
        "print(\"\\nEvaluating Model Performance:\")\n",
        "evaluate_model()\n"
      ],
      "metadata": {
        "colab": {
          "base_uri": "https://localhost:8080/"
        },
        "id": "8sdKzSqIrBnd",
        "outputId": "ee11e900-9c50-4a3c-e595-2f36ac40f9ba"
      },
      "id": "8sdKzSqIrBnd",
      "execution_count": null,
      "outputs": [
        {
          "output_type": "stream",
          "name": "stdout",
          "text": [
            "\n",
            "Evaluating Model Performance:\n",
            "Accuracy: 0.7250\n"
          ]
        }
      ]
    },
    {
      "cell_type": "code",
      "source": [
        "import matplotlib.pyplot as plt\n",
        "plt.plot(range(100), sgd_loss_history, label='SGD Loss')\n",
        "plt.plot(range(100), adam_loss_history, label='Adam Loss')\n",
        "plt.xlabel('Epochs')\n",
        "plt.ylabel('Loss')\n",
        "plt.title('Loss Curve for SGD and Adam Optimizers')\n",
        "plt.legend()\n",
        "plt.show()"
      ],
      "metadata": {
        "colab": {
          "base_uri": "https://localhost:8080/",
          "height": 472
        },
        "id": "z15hCSKvrGh4",
        "outputId": "f4676880-9ef9-4c79-de5d-eb15ac0817b9"
      },
      "id": "z15hCSKvrGh4",
      "execution_count": null,
      "outputs": [
        {
          "output_type": "display_data",
          "data": {
            "text/plain": [
              "<Figure size 640x480 with 1 Axes>"
            ],
            "image/png": "[encoded data removed]"
          },
          "metadata": {}
        }
      ]
    },
    {
      "cell_type": "code",
      "source": [],
      "metadata": {
        "id": "RWGeLM0Drtz_"
      },
      "id": "RWGeLM0Drtz_",
      "execution_count": null,
      "outputs": []
    }
  ],
  "metadata": {
    "kernelspec": {
      "display_name": "Python [conda env:base] *",
      "language": "python",
      "name": "conda-base-py"
    },
    "language_info": {
      "codemirror_mode": {
        "name": "ipython",
        "version": 3
      },
      "file_extension": ".py",
      "mimetype": "text/x-python",
      "name": "python",
      "nbconvert_exporter": "python",
      "pygments_lexer": "ipython3",
      "version": "3.12.7"
    },
    "colab": {
      "provenance": [],
      "include_colab_link": true
    }
  },
  "nbformat": 4,
  "nbformat_minor": 5
}